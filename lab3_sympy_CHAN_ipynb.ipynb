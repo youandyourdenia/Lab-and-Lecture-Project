{
  "nbformat": 4,
  "nbformat_minor": 0,
  "metadata": {
    "colab": {
      "provenance": []
    },
    "kernelspec": {
      "name": "python3",
      "display_name": "Python 3"
    },
    "language_info": {
      "name": "python"
    }
  },
  "cells": [
    {
      "cell_type": "code",
      "execution_count": null,
      "metadata": {
        "id": "FcCcuxwXf3kS"
      },
      "outputs": [],
      "source": []
    },
    {
      "cell_type": "markdown",
      "source": [
        "# Laboratory Activity #3: Introduction to SymPy\n",
        "\n",
        "## Objectives:\n",
        "- Apply basic symbolic calculations using SymPy"
      ],
      "metadata": {
        "id": "bKR8gG4xgJhE"
      }
    },
    {
      "cell_type": "markdown",
      "source": [
        "## Task #1: Include all necessary SymPy modules"
      ],
      "metadata": {
        "id": "X9AeNnyfgKvj"
      }
    },
    {
      "cell_type": "code",
      "source": [
        "# Import the relevant sympy modules\n",
        "from sympy import symbols, simplify, expand, sqrt, Eq"
      ],
      "metadata": {
        "colab": {
          "base_uri": "https://localhost:8080/",
          "height": 269
        },
        "id": "dJTB1l08gPi7",
        "outputId": "34490729-1498-47b0-b406-2110d78ce9ca"
      },
      "execution_count": 1,
      "outputs": [
        {
          "output_type": "error",
          "ename": "KeyboardInterrupt",
          "evalue": "",
          "traceback": [
            "\u001b[0;31m---------------------------------------------------------------------------\u001b[0m",
            "\u001b[0;31mKeyboardInterrupt\u001b[0m                         Traceback (most recent call last)",
            "\u001b[0;32m<ipython-input-1-1068450889>\u001b[0m in \u001b[0;36m<cell line: 0>\u001b[0;34m()\u001b[0m\n\u001b[1;32m      1\u001b[0m \u001b[0;31m# Import the relevant sympy modules\u001b[0m\u001b[0;34m\u001b[0m\u001b[0;34m\u001b[0m\u001b[0m\n\u001b[0;32m----> 2\u001b[0;31m \u001b[0;32mfrom\u001b[0m \u001b[0msympy\u001b[0m \u001b[0;32mimport\u001b[0m \u001b[0msymbols\u001b[0m\u001b[0;34m,\u001b[0m \u001b[0msimplify\u001b[0m\u001b[0;34m,\u001b[0m \u001b[0mexpand\u001b[0m\u001b[0;34m,\u001b[0m \u001b[0msqrt\u001b[0m\u001b[0;34m,\u001b[0m \u001b[0mEq\u001b[0m\u001b[0;34m\u001b[0m\u001b[0;34m\u001b[0m\u001b[0m\n\u001b[0m",
            "\u001b[0;32m/usr/local/lib/python3.11/dist-packages/sympy/__init__.py\u001b[0m in \u001b[0;36m<module>\u001b[0;34m\u001b[0m\n\u001b[1;32m    198\u001b[0m         rot_ccw_axis2, rot_ccw_axis3, rot_givens)\n\u001b[1;32m    199\u001b[0m \u001b[0;34m\u001b[0m\u001b[0m\n\u001b[0;32m--> 200\u001b[0;31m from .geometry import (Point, Point2D, Point3D, Line, Ray, Segment, Line2D,\n\u001b[0m\u001b[1;32m    201\u001b[0m         \u001b[0mSegment2D\u001b[0m\u001b[0;34m,\u001b[0m \u001b[0mRay2D\u001b[0m\u001b[0;34m,\u001b[0m \u001b[0mLine3D\u001b[0m\u001b[0;34m,\u001b[0m \u001b[0mSegment3D\u001b[0m\u001b[0;34m,\u001b[0m \u001b[0mRay3D\u001b[0m\u001b[0;34m,\u001b[0m \u001b[0mPlane\u001b[0m\u001b[0;34m,\u001b[0m \u001b[0mEllipse\u001b[0m\u001b[0;34m,\u001b[0m \u001b[0mCircle\u001b[0m\u001b[0;34m,\u001b[0m\u001b[0;34m\u001b[0m\u001b[0;34m\u001b[0m\u001b[0m\n\u001b[1;32m    202\u001b[0m         \u001b[0mPolygon\u001b[0m\u001b[0;34m,\u001b[0m \u001b[0mRegularPolygon\u001b[0m\u001b[0;34m,\u001b[0m \u001b[0mTriangle\u001b[0m\u001b[0;34m,\u001b[0m \u001b[0mrad\u001b[0m\u001b[0;34m,\u001b[0m \u001b[0mdeg\u001b[0m\u001b[0;34m,\u001b[0m \u001b[0mare_similar\u001b[0m\u001b[0;34m,\u001b[0m \u001b[0mcentroid\u001b[0m\u001b[0;34m,\u001b[0m\u001b[0;34m\u001b[0m\u001b[0;34m\u001b[0m\u001b[0m\n",
            "\u001b[0;32m/usr/local/lib/python3.11/dist-packages/sympy/geometry/__init__.py\u001b[0m in \u001b[0;36m<module>\u001b[0;34m\u001b[0m\n\u001b[1;32m     15\u001b[0m     \u001b[0mLine3D\u001b[0m\u001b[0;34m,\u001b[0m \u001b[0mSegment3D\u001b[0m\u001b[0;34m,\u001b[0m \u001b[0mRay3D\u001b[0m\u001b[0;34m\u001b[0m\u001b[0;34m\u001b[0m\u001b[0m\n\u001b[1;32m     16\u001b[0m \u001b[0;32mfrom\u001b[0m \u001b[0msympy\u001b[0m\u001b[0;34m.\u001b[0m\u001b[0mgeometry\u001b[0m\u001b[0;34m.\u001b[0m\u001b[0mplane\u001b[0m \u001b[0;32mimport\u001b[0m \u001b[0mPlane\u001b[0m\u001b[0;34m\u001b[0m\u001b[0;34m\u001b[0m\u001b[0m\n\u001b[0;32m---> 17\u001b[0;31m \u001b[0;32mfrom\u001b[0m \u001b[0msympy\u001b[0m\u001b[0;34m.\u001b[0m\u001b[0mgeometry\u001b[0m\u001b[0;34m.\u001b[0m\u001b[0mellipse\u001b[0m \u001b[0;32mimport\u001b[0m \u001b[0mEllipse\u001b[0m\u001b[0;34m,\u001b[0m \u001b[0mCircle\u001b[0m\u001b[0;34m\u001b[0m\u001b[0;34m\u001b[0m\u001b[0m\n\u001b[0m\u001b[1;32m     18\u001b[0m \u001b[0;32mfrom\u001b[0m \u001b[0msympy\u001b[0m\u001b[0;34m.\u001b[0m\u001b[0mgeometry\u001b[0m\u001b[0;34m.\u001b[0m\u001b[0mpolygon\u001b[0m \u001b[0;32mimport\u001b[0m \u001b[0mPolygon\u001b[0m\u001b[0;34m,\u001b[0m \u001b[0mRegularPolygon\u001b[0m\u001b[0;34m,\u001b[0m \u001b[0mTriangle\u001b[0m\u001b[0;34m,\u001b[0m \u001b[0mrad\u001b[0m\u001b[0;34m,\u001b[0m \u001b[0mdeg\u001b[0m\u001b[0;34m\u001b[0m\u001b[0;34m\u001b[0m\u001b[0m\n\u001b[1;32m     19\u001b[0m \u001b[0;32mfrom\u001b[0m \u001b[0msympy\u001b[0m\u001b[0;34m.\u001b[0m\u001b[0mgeometry\u001b[0m\u001b[0;34m.\u001b[0m\u001b[0mutil\u001b[0m \u001b[0;32mimport\u001b[0m \u001b[0mare_similar\u001b[0m\u001b[0;34m,\u001b[0m \u001b[0mcentroid\u001b[0m\u001b[0;34m,\u001b[0m \u001b[0mconvex_hull\u001b[0m\u001b[0;34m,\u001b[0m \u001b[0midiff\u001b[0m\u001b[0;34m,\u001b[0m\u001b[0;31m \u001b[0m\u001b[0;31m\\\u001b[0m\u001b[0;34m\u001b[0m\u001b[0;34m\u001b[0m\u001b[0m\n",
            "\u001b[0;32m/usr/local/lib/python3.11/dist-packages/sympy/geometry/ellipse.py\u001b[0m in \u001b[0;36m<module>\u001b[0;34m\u001b[0m\n\u001b[1;32m   1765\u001b[0m \u001b[0;34m\u001b[0m\u001b[0m\n\u001b[1;32m   1766\u001b[0m \u001b[0;34m\u001b[0m\u001b[0m\n\u001b[0;32m-> 1767\u001b[0;31m \u001b[0;32mfrom\u001b[0m \u001b[0;34m.\u001b[0m\u001b[0mpolygon\u001b[0m \u001b[0;32mimport\u001b[0m \u001b[0mPolygon\u001b[0m\u001b[0;34m,\u001b[0m \u001b[0mTriangle\u001b[0m\u001b[0;34m\u001b[0m\u001b[0;34m\u001b[0m\u001b[0m\n\u001b[0m",
            "\u001b[0;31mKeyboardInterrupt\u001b[0m: "
          ]
        }
      ]
    },
    {
      "cell_type": "markdown",
      "source": [
        "## Task #2: Basic Calculation\n",
        "### Solve the following:\n",
        "\n",
        "1. 53 + 10√2  \n",
        "2. √50 × √59"
      ],
      "metadata": {
        "id": "h1UJxuW7gTXf"
      }
    },
    {
      "cell_type": "code",
      "source": [
        "# Answer for the first expression: 53 + 10√2\n",
        "expr1 = 53 + 10 * sqrt(2)\n",
        "expr1"
      ],
      "metadata": {
        "id": "oe3C0ipPgVQW"
      },
      "execution_count": null,
      "outputs": []
    },
    {
      "cell_type": "code",
      "source": [
        "# Answer for the second expression: √50 × √59\n",
        "expr2 = sqrt(50) * sqrt(59)\n",
        "expr2"
      ],
      "metadata": {
        "id": "HK859VZvgaMW"
      },
      "execution_count": null,
      "outputs": []
    },
    {
      "cell_type": "markdown",
      "source": [
        "## Task #3: Symbols\n",
        "### Create the equations for the following:\n",
        "\n",
        "1. 2x + 3y = 12  \n",
        "2. x − y = 4"
      ],
      "metadata": {
        "id": "XaxtQ_3kgdAB"
      }
    },
    {
      "cell_type": "code",
      "source": [
        "# Define symbols\n",
        "x, y = symbols('x y')"
      ],
      "metadata": {
        "id": "86HTHD8Ugegf"
      },
      "execution_count": null,
      "outputs": []
    },
    {
      "cell_type": "code",
      "source": [
        "# First equation: 2x + 3y = 12\n",
        "eq1 = Eq(2*x + 3*y, 12)\n",
        "eq1"
      ],
      "metadata": {
        "id": "VzPvJeVlgfjL"
      },
      "execution_count": null,
      "outputs": []
    },
    {
      "cell_type": "code",
      "source": [
        "# Second equation: x - y = 4\n",
        "eq2 = Eq(x - y, 4)\n",
        "eq2"
      ],
      "metadata": {
        "id": "e8AqYe0NghaJ"
      },
      "execution_count": null,
      "outputs": []
    },
    {
      "cell_type": "markdown",
      "source": [
        "## Task #3: Simplification\n",
        "### Simplify the following:\n",
        "\n",
        "1. (x² + 2x + 1) / (x + 1)  \n",
        "2. (1 − 1 / (1 + 1/x)) / (1 + 1/x)"
      ],
      "metadata": {
        "id": "96ZkZml6gkLy"
      }
    },
    {
      "cell_type": "code",
      "source": [
        "# Simplify the first expression\n",
        "expr3 = simplify((x**2 + 2*x + 1) / (x + 1))\n",
        "expr3"
      ],
      "metadata": {
        "id": "OHKDNt2nglfx"
      },
      "execution_count": null,
      "outputs": []
    },
    {
      "cell_type": "code",
      "source": [
        "# Simplify the second expression\n",
        "expr4 = simplify((1 - 1/(1 + 1/x)) / (1 + 1/x))\n",
        "expr4"
      ],
      "metadata": {
        "id": "WNfncheCgmto"
      },
      "execution_count": null,
      "outputs": []
    },
    {
      "cell_type": "markdown",
      "source": [
        "## Task #4: Expansion\n",
        "### Expand the following:\n",
        "\n",
        "1. (2x + 2)²  \n",
        "2. (2x + y)(x − 2y)"
      ],
      "metadata": {
        "id": "LbNnCEH4gnuc"
      }
    },
    {
      "cell_type": "code",
      "source": [
        "# Expand the first expression\n",
        "expr5 = expand((2*x + 2)**2)\n",
        "expr5"
      ],
      "metadata": {
        "id": "KSvZdn5hgqFp"
      },
      "execution_count": null,
      "outputs": []
    },
    {
      "cell_type": "code",
      "source": [
        "# Expand the second expression\n",
        "expr6 = expand((2*x + y)*(x - 2*y))\n",
        "expr6"
      ],
      "metadata": {
        "id": "7iGa1po0grlr"
      },
      "execution_count": null,
      "outputs": []
    }
  ]
}